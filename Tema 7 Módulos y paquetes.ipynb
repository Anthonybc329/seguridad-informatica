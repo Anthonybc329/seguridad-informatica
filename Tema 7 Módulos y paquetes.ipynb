{
 "cells": [
  {
   "cell_type": "code",
   "execution_count": 2,
   "id": "b4200699",
   "metadata": {
    "scrolled": false
   },
   "outputs": [],
   "source": [
    "#Importaciones\n",
    "#import operaciones\n",
    "from mipaquete import imc\n",
    "from mipaquete import mequiere\n",
    "from mipaquete import modulo1\n",
    "from mipaquete import modulo2\n",
    "from mipaquete import modulo3\n",
    "from mipaquete import modulo4"
   ]
  },
  {
   "cell_type": "code",
   "execution_count": null,
   "id": "ac28eac4",
   "metadata": {
    "scrolled": true
   },
   "outputs": [],
   "source": [
    "resultado = operaciones.suma(5,6)\n",
    "print(resultado)\n",
    "\n",
    "resultado = operaciones.resta(5,6)\n",
    "\n",
    "print(resultado)"
   ]
  },
  {
   "cell_type": "code",
   "execution_count": 3,
   "id": "a542b459",
   "metadata": {
    "scrolled": true
   },
   "outputs": [
    {
     "name": "stdout",
     "output_type": "stream",
     "text": [
      "Hola me quieres? SI o NO Si\n",
      "😍\n"
     ]
    }
   ],
   "source": [
    "mequiere.mequiere()"
   ]
  },
  {
   "cell_type": "code",
   "execution_count": 5,
   "id": "c3a30cae",
   "metadata": {},
   "outputs": [
    {
     "name": "stdout",
     "output_type": "stream",
     "text": [
      "Cual es tu nombre? Antonio Borges\n",
      "Cual es tu peso? 78\n",
      "Cual es tu altura? 158\n",
      "Tienes obesidad\n"
     ]
    }
   ],
   "source": [
    "imc.funcion()"
   ]
  },
  {
   "cell_type": "code",
   "execution_count": 6,
   "id": "62baeaa2",
   "metadata": {
    "scrolled": true
   },
   "outputs": [
    {
     "name": "stdout",
     "output_type": "stream",
     "text": [
      "CALCULAR EL AREA DE UN TRIANGULO\n",
      "calcula la base: 5\n",
      "calcula la altura: 6\n",
      "el resultado es: 15.0\n"
     ]
    }
   ],
   "source": [
    "modulo1.area()"
   ]
  },
  {
   "cell_type": "code",
   "execution_count": 7,
   "id": "63e1c1d2",
   "metadata": {},
   "outputs": [
    {
     "name": "stdout",
     "output_type": "stream",
     "text": [
      "Introduce un número: 8\n",
      "El número es par.\n"
     ]
    }
   ],
   "source": [
    "modulo3.imparopar()"
   ]
  },
  {
   "cell_type": "code",
   "execution_count": 8,
   "id": "c14f8605",
   "metadata": {
    "scrolled": true
   },
   "outputs": [
    {
     "name": "stdout",
     "output_type": "stream",
     "text": [
      "Comprobador de años bisiestos\n",
      "Escriba un año y le diré si es bisiesto: 2002\n",
      "El año 2002 no es un año bisiesto.\n"
     ]
    }
   ],
   "source": [
    "modulo2.bisiestos()"
   ]
  },
  {
   "cell_type": "code",
   "execution_count": 9,
   "id": "200c6f9c",
   "metadata": {
    "scrolled": false
   },
   "outputs": [
    {
     "name": "stdout",
     "output_type": "stream",
     "text": [
      "Introduce el radio del círculo: 8\n",
      "El área del círculo con radio 8.0 es: 201.06\n"
     ]
    }
   ],
   "source": [
    "modulo4.area()"
   ]
  }
 ],
 "metadata": {
  "kernelspec": {
   "display_name": "Python 3 (ipykernel)",
   "language": "python",
   "name": "python3"
  },
  "language_info": {
   "codemirror_mode": {
    "name": "ipython",
    "version": 3
   },
   "file_extension": ".py",
   "mimetype": "text/x-python",
   "name": "python",
   "nbconvert_exporter": "python",
   "pygments_lexer": "ipython3",
   "version": "3.11.4"
  }
 },
 "nbformat": 4,
 "nbformat_minor": 5
}
