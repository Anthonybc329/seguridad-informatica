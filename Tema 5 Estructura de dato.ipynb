{
 "cells": [
  {
   "cell_type": "code",
   "execution_count": null,
   "id": "c709d67a",
   "metadata": {},
   "outputs": [],
   "source": [
    "#Lista\n",
    "\n",
    "frutas = [\"manzana\", \"banana\", \"cereza\"]\n",
    "numeros = [1, 2, 3, 4, 5]\n",
    "mixto = [\"txt\", 123, True, 3.14]"
   ]
  },
  {
   "cell_type": "code",
   "execution_count": 2,
   "id": "d3655dce",
   "metadata": {},
   "outputs": [
    {
     "ename": "NameError",
     "evalue": "name 'frutas' is not defined",
     "output_type": "error",
     "traceback": [
      "\u001b[1;31m---------------------------------------------------------------------------\u001b[0m",
      "\u001b[1;31mNameError\u001b[0m                                 Traceback (most recent call last)",
      "Cell \u001b[1;32mIn[2], line 2\u001b[0m\n\u001b[0;32m      1\u001b[0m \u001b[38;5;66;03m#\u001b[39;00m\n\u001b[1;32m----> 2\u001b[0m \u001b[38;5;28mprint\u001b[39m(frutas[\u001b[38;5;241m0\u001b[39m])\n\u001b[0;32m      4\u001b[0m \u001b[38;5;28;01mfor\u001b[39;00m numero \u001b[38;5;129;01min\u001b[39;00m numeros:\n\u001b[0;32m      5\u001b[0m     \u001b[38;5;28mprint\u001b[39m(numero)\n",
      "\u001b[1;31mNameError\u001b[0m: name 'frutas' is not defined"
     ]
    }
   ],
   "source": [
    "#\n",
    "print(frutas[0])\n",
    "\n",
    "for numero in numeros:\n",
    "    print(numero)"
   ]
  },
  {
   "cell_type": "code",
   "execution_count": null,
   "id": "b1055f71",
   "metadata": {},
   "outputs": [],
   "source": [
    "mixto[1] = \"HolaMundo\"\n",
    "print(mixto)"
   ]
  },
  {
   "cell_type": "code",
   "execution_count": null,
   "id": "6472c5ff",
   "metadata": {},
   "outputs": [],
   "source": [
    "# metodos\n",
    "\n",
    "frutas.append(\"naranja\") #Agrega un elemento al final\n",
    "frutas.remove(\"manzana\") #Elimina un elemento en especifico\n",
    "frutas.pop() #Elimina el ultimo elemento"
   ]
  },
  {
   "cell_type": "code",
   "execution_count": 3,
   "id": "5f95334d",
   "metadata": {},
   "outputs": [],
   "source": [
    "# 2. Tuplas\n",
    "colores = (\"rojo\",\"verde\", \"azul\")"
   ]
  },
  {
   "cell_type": "code",
   "execution_count": 4,
   "id": "b1be8731",
   "metadata": {},
   "outputs": [
    {
     "name": "stdout",
     "output_type": "stream",
     "text": [
      "verde\n",
      "rojo\n",
      "verde\n",
      "azul\n"
     ]
    }
   ],
   "source": [
    "print(colores[1])\n",
    "\n",
    "for color in colores:\n",
    "    print(color)"
   ]
  },
  {
   "cell_type": "code",
   "execution_count": null,
   "id": "2f80a2ce",
   "metadata": {},
   "outputs": [],
   "source": [
    "# 3. Conjunto (sets)\n",
    "animales = {\"gato\", \"perro\", \"pez\"}"
   ]
  },
  {
   "cell_type": "code",
   "execution_count": null,
   "id": "80f9855a",
   "metadata": {},
   "outputs": [],
   "source": [
    "# Metodos\n",
    "animales.add(\"Pajaro\") #Agregar un elemento\n",
    "animales.remove(\"pez\") #Elimina un elemento\n"
   ]
  },
  {
   "cell_type": "code",
   "execution_count": null,
   "id": "57a3733b",
   "metadata": {},
   "outputs": [],
   "source": [
    "for animal in animales:\n",
    "    print(animal)"
   ]
  },
  {
   "cell_type": "code",
   "execution_count": null,
   "id": "663ab112",
   "metadata": {},
   "outputs": [],
   "source": [
    "# 4. Diccionarios\n",
    "persona = {\n",
    "    \"nombre\": \"Antonio\",\n",
    "    \"ap_paterno\": \"Borges\",\n",
    "    \"ap_materno\": \"Cauich\",\n",
    "    \"edad\": 21,\n",
    "    \"Cuidad\": \"Cancun\",\n",
    "    \"altura\": 160,\n",
    "    \"peso\": 72\n",
    "}"
   ]
  },
  {
   "cell_type": "code",
   "execution_count": null,
   "id": "4b6a51bc",
   "metadata": {},
   "outputs": [],
   "source": [
    "for k in persona:\n",
    "    print(k)"
   ]
  },
  {
   "cell_type": "code",
   "execution_count": null,
   "id": "a995ca3d",
   "metadata": {},
   "outputs": [],
   "source": [
    "for v in persona.values():\n",
    "    print(v)"
   ]
  },
  {
   "cell_type": "code",
   "execution_count": null,
   "id": "bfaf4db2",
   "metadata": {},
   "outputs": [],
   "source": [
    "for k,v in persona.items():\n",
    "    print(f\"La clave es: {k} y el valor es {v}\")"
   ]
  },
  {
   "cell_type": "code",
   "execution_count": 10,
   "id": "2879f03b",
   "metadata": {},
   "outputs": [],
   "source": [
    "# Funcion que determina el IMC, y que diga el nivel del peso\n",
    "#Peso, altura y nombre\n",
    "\n",
    "def funcion():\n",
    "    nombre = input(\"Cual es tu nombre? \")\n",
    "    peso = float(input(\"Cual es tu peso? \"))\n",
    "    altura = float(input(\"Cual es tu altura? \"))\n",
    "    \n",
    "    imc = peso / altura*altura\n",
    "    \n",
    "    if imc > 30:\n",
    "        print(\"Tienes obesidad\")\n",
    "    elif imc > 25:\n",
    "        print(\"Tienes sobre peso\")\n",
    "    elif  imc > 18:\n",
    "        print (\"Tienes un peso normal\")\n",
    "    else:\n",
    "        print(\"Te falta alimentarte\")"
   ]
  },
  {
   "cell_type": "code",
   "execution_count": 12,
   "id": "a841682a",
   "metadata": {
    "scrolled": false
   },
   "outputs": [
    {
     "name": "stdout",
     "output_type": "stream",
     "text": [
      "Cual es tu nombre?Antonio\n",
      "Cual es tu peso?62\n",
      "Cual es tu altura?1.65\n",
      "Tienes obesidad\n"
     ]
    }
   ],
   "source": [
    "funcion()"
   ]
  }
 ],
 "metadata": {
  "kernelspec": {
   "display_name": "Python 3 (ipykernel)",
   "language": "python",
   "name": "python3"
  },
  "language_info": {
   "codemirror_mode": {
    "name": "ipython",
    "version": 3
   },
   "file_extension": ".py",
   "mimetype": "text/x-python",
   "name": "python",
   "nbconvert_exporter": "python",
   "pygments_lexer": "ipython3",
   "version": "3.11.4"
  }
 },
 "nbformat": 4,
 "nbformat_minor": 5
}
