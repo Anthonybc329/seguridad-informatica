{
 "cells": [
  {
   "cell_type": "code",
   "execution_count": 3,
   "id": "f77e4422",
   "metadata": {},
   "outputs": [
    {
     "name": "stdout",
     "output_type": "stream",
     "text": [
      "Collecting python-docx\n",
      "  Obtaining dependency information for python-docx from https://files.pythonhosted.org/packages/ea/82/ddb60b44c6e39a74bd406fab7d7c102ce7dfca2dff9515dfd6edc7d25f1e/python_docx-1.0.1-py3-none-any.whl.metadata\n",
      "  Downloading python_docx-1.0.1-py3-none-any.whl.metadata (2.0 kB)\n",
      "Requirement already satisfied: lxml>=3.1.0 in c:\\users\\antho\\anaconda3\\lib\\site-packages (from python-docx) (4.9.2)\n",
      "Requirement already satisfied: typing-extensions in c:\\users\\antho\\anaconda3\\lib\\site-packages (from python-docx) (4.7.1)\n",
      "Using cached python_docx-1.0.1-py3-none-any.whl (237 kB)\n",
      "Installing collected packages: python-docx\n",
      "Successfully installed python-docx-1.0.1\n",
      "Note: you may need to restart the kernel to use updated packages.\n"
     ]
    }
   ],
   "source": [
    "pip install python-docx\n"
   ]
  },
  {
   "cell_type": "code",
   "execution_count": 6,
   "id": "81e981d9",
   "metadata": {},
   "outputs": [
    {
     "name": "stdout",
     "output_type": "stream",
     "text": [
      "Hola esto es una prueba lol\n"
     ]
    }
   ],
   "source": [
    "#WORD \n",
    "\n",
    "from docx import Document\n",
    "\n",
    "documento = Document(\"ejemplo.docx\")\n",
    "for paragraph in documento.paragraphs:\n",
    "    print(paragraph.text)"
   ]
  }
 ],
 "metadata": {
  "kernelspec": {
   "display_name": "Python 3 (ipykernel)",
   "language": "python",
   "name": "python3"
  },
  "language_info": {
   "codemirror_mode": {
    "name": "ipython",
    "version": 3
   },
   "file_extension": ".py",
   "mimetype": "text/x-python",
   "name": "python",
   "nbconvert_exporter": "python",
   "pygments_lexer": "ipython3",
   "version": "3.11.4"
  }
 },
 "nbformat": 4,
 "nbformat_minor": 5
}
