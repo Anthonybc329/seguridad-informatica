{
 "cells": [
  {
   "cell_type": "code",
   "execution_count": 9,
   "id": "65f02375",
   "metadata": {},
   "outputs": [
    {
     "name": "stdout",
     "output_type": "stream",
     "text": [
      "Contenido de la página 1:\n",
      "Reservar de CITA \n",
      "Opcion 1: \n",
      "Directorio médico: \n",
      "Búsqueda por: Nombre de Médico Especialista o Especialidad \n",
      "Cliente: \n",
      "Registro de cliente: \n",
      " Nombre y Apellidos \n",
      " No. telefónico \n",
      " Correo electrónico \n",
      " Fecha de nacimiento \n",
      " Sexo \n",
      " Contraseña \n",
      "Alcance: podrá agendar y cancelar cita \n",
      "Tipo de consulta: \n",
      " Primera vez \n",
      " subsecuente \n",
      " seleccionar fecha \n",
      " Horario \n",
      "Confirmacion de cita: Nombre de Médico, Costo de Consulta, fecha y Hora. \n",
      "Notificación por: Correo, WhatsApp \n",
      "Asistente: \n",
      "Perfil asistente: \n",
      " Consulta y Actualiza agenda (horarios y dia de atención) \n",
      " Agenda cita /reprograma /cancela \n",
      " Recibe requerimientos de cita agenda en linea (por correo /WhatsApp) \n",
      " Envia recordatorio a cliente (WhatsApp /Correo) *validar proceso manual /automático \n",
      " Reporte de citas por especialidades asignadas \n",
      " \n",
      "Perfil Administrador jefa de asistente: \n",
      " Consulta y Actualiza agenda (Horarios y dias de atención) \n",
      " Agenda cita  \n",
      " Recibe notificaciones \n",
      " Envia recordatorio (WhatsApp /Correo) \n",
      " Actualiza directorio (especialidad, Medicos, costo de consulta) \n",
      " Alta /baja de usuarios /Asignar roll-perfil \n",
      "Contenido de la página 2:\n",
      " \n",
      "Opcions 2: Se publica directorio Médico  \n",
      "*El cliente hace contacto a traves de: numeros de contacto, WhatsApp ó correo electrónico \n",
      "La asistente recibe el requerimiento y contacta a cliente: confirma (agenda) la cita  \n",
      "  \n"
     ]
    }
   ],
   "source": [
    "import PyPDF2\n",
    "\n",
    "# Abre el archivo PDF en modo de lectura binaria\n",
    "with open('ejemplo.pdf', 'rb') as pdf_file:\n",
    "    # Crea un objeto PdfReader para el archivo PDF\n",
    "    pdf_reader = PyPDF2.PdfReader(pdf_file)\n",
    "\n",
    "    # Obtiene el número de páginas en el archivo PDF\n",
    "    num_pages = len(pdf_reader.pages)\n",
    "\n",
    "    # Itera a través de cada página y extrae el texto\n",
    "    for page_num in range(num_pages):\n",
    "        page = pdf_reader.pages[page_num]\n",
    "        text = page.extract_text()\n",
    "        print(f\"Contenido de la página {page_num + 1}:\\n{text}\")"
   ]
  }
 ],
 "metadata": {
  "kernelspec": {
   "display_name": "Python 3 (ipykernel)",
   "language": "python",
   "name": "python3"
  },
  "language_info": {
   "codemirror_mode": {
    "name": "ipython",
    "version": 3
   },
   "file_extension": ".py",
   "mimetype": "text/x-python",
   "name": "python",
   "nbconvert_exporter": "python",
   "pygments_lexer": "ipython3",
   "version": "3.11.4"
  }
 },
 "nbformat": 4,
 "nbformat_minor": 5
}
