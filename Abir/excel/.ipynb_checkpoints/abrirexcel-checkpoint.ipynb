{
 "cells": [
  {
   "cell_type": "code",
   "execution_count": null,
   "id": "b97ca6c7",
   "metadata": {},
   "outputs": [],
   "source": [
    "import openpyxl\n",
    "\n",
    "libro_excel = openpyxl.load_workbook(\"ejemplo.xlsx\")\n",
    "hoja = libro_excel.active\n",
    "\n",
    "# Accede a las celdas en la hoja de cálculo\n",
    "for fila in hoja.iter_rows():\n",
    "    for celda in fila:\n",
    "        print(celda.value)\n"
   ]
  }
 ],
 "metadata": {
  "kernelspec": {
   "display_name": "Python 3 (ipykernel)",
   "language": "python",
   "name": "python3"
  },
  "language_info": {
   "codemirror_mode": {
    "name": "ipython",
    "version": 3
   },
   "file_extension": ".py",
   "mimetype": "text/x-python",
   "name": "python",
   "nbconvert_exporter": "python",
   "pygments_lexer": "ipython3",
   "version": "3.11.4"
  }
 },
 "nbformat": 4,
 "nbformat_minor": 5
}
