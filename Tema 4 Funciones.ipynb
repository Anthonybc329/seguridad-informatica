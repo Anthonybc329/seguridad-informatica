{
 "cells": [
  {
   "cell_type": "code",
   "execution_count": 1,
   "id": "a4c92ab9",
   "metadata": {},
   "outputs": [
    {
     "ename": "SyntaxError",
     "evalue": "invalid syntax (517482399.py, line 3)",
     "output_type": "error",
     "traceback": [
      "\u001b[1;36m  Cell \u001b[1;32mIn[1], line 3\u001b[1;36m\u001b[0m\n\u001b[1;33m    incio rango\u001b[0m\n\u001b[1;37m          ^\u001b[0m\n\u001b[1;31mSyntaxError\u001b[0m\u001b[1;31m:\u001b[0m invalid syntax\n"
     ]
    }
   ],
   "source": [
    "#Tabla infinita\n",
    "\n",
    "incio rango\n",
    "final rango\n",
    "\n",
    "incio tabla\n",
    "final tabla\n",
    "\n",
    "1 x 1 = 1\n",
    "1 x 2 = 2\n",
    "1 x 3 = 3"
   ]
  },
  {
   "cell_type": "code",
   "execution_count": null,
   "id": "cbe6a78f",
   "metadata": {},
   "outputs": [],
   "source": [
    "for i in range (5):\n",
    "    print (i)"
   ]
  },
  {
   "cell_type": "code",
   "execution_count": 1,
   "id": "087d22ea",
   "metadata": {},
   "outputs": [
    {
     "name": "stdout",
     "output_type": "stream",
     "text": [
      "Ingresa el rango incial5\n",
      "Ingresa el rango final3\n",
      "Ingresa la tabla incial2\n",
      "Ingresa la tabla final8\n"
     ]
    }
   ],
   "source": [
    "inicioR = int(input(\"Ingresa el rango incial\"))\n",
    "finalR = int(input(\"Ingresa el rango final\"))\n",
    "inicioT = int(input(\"Ingresa la tabla incial\"))\n",
    "finalT = int(input(\"Ingresa la tabla final\"))\n"
   ]
  },
  {
   "cell_type": "code",
   "execution_count": 2,
   "id": "6b7515d7",
   "metadata": {},
   "outputs": [],
   "source": [
    "def saludo_personalizado(nombre):\n",
    "    print(f\"¡Hola, {nombre}!\")"
   ]
  },
  {
   "cell_type": "code",
   "execution_count": 13,
   "id": "d66cc1f7",
   "metadata": {},
   "outputs": [
    {
     "name": "stdout",
     "output_type": "stream",
     "text": [
      "¡Hola, Antonio!\n"
     ]
    }
   ],
   "source": [
    "saludo_personalizado(\"Antonio\")"
   ]
  }
 ],
 "metadata": {
  "kernelspec": {
   "display_name": "Python 3 (ipykernel)",
   "language": "python",
   "name": "python3"
  },
  "language_info": {
   "codemirror_mode": {
    "name": "ipython",
    "version": 3
   },
   "file_extension": ".py",
   "mimetype": "text/x-python",
   "name": "python",
   "nbconvert_exporter": "python",
   "pygments_lexer": "ipython3",
   "version": "3.11.4"
  }
 },
 "nbformat": 4,
 "nbformat_minor": 5
}
