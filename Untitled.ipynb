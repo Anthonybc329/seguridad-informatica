{
 "cells": [
  {
   "cell_type": "code",
   "execution_count": null,
   "id": "9981953d",
   "metadata": {},
   "outputs": [],
   "source": [
    "Los modos comunes son:\n",
    "\n",
    "\"r\": Lectura (por defecto).\n",
    "\"w\": Escritura (sobrescribe el archivo si ya existe).\n",
    "\"a\": Añadir (agrega contenido al final del archivo si ya existe).\n",
    "\"b\": Modo binario (se utiliza junto con otros modos, como \"rb\" o \"wb\")."
   ]
  },
  {
   "cell_type": "code",
   "execution_count": 2,
   "id": "1f888ab2",
   "metadata": {},
   "outputs": [
    {
     "name": "stdout",
     "output_type": "stream",
     "text": [
      "Hola Mundo\n"
     ]
    }
   ],
   "source": [
    "archivo = open(\"hola.txt\",\"r\")\n",
    "resultado = archivo.read()\n",
    "\n",
    "print(resultado)"
   ]
  },
  {
   "cell_type": "code",
   "execution_count": 4,
   "id": "31b9c4d8",
   "metadata": {},
   "outputs": [
    {
     "ename": "ModuleNotFoundError",
     "evalue": "No module named 'PyPDF2'",
     "output_type": "error",
     "traceback": [
      "\u001b[1;31m---------------------------------------------------------------------------\u001b[0m",
      "\u001b[1;31mModuleNotFoundError\u001b[0m                       Traceback (most recent call last)",
      "Cell \u001b[1;32mIn[4], line 1\u001b[0m\n\u001b[1;32m----> 1\u001b[0m \u001b[38;5;28;01mimport\u001b[39;00m \u001b[38;5;21;01mPyPDF2\u001b[39;00m\n\u001b[0;32m      3\u001b[0m archivo_pdf \u001b[38;5;241m=\u001b[39m \u001b[38;5;28mopen\u001b[39m(\u001b[38;5;124m\"\u001b[39m\u001b[38;5;124mReserva_de_citas_medicas.pdf\u001b[39m\u001b[38;5;124m\"\u001b[39m, \u001b[38;5;124m\"\u001b[39m\u001b[38;5;124mrb\u001b[39m\u001b[38;5;124m\"\u001b[39m)\n\u001b[0;32m      4\u001b[0m lector_pdf \u001b[38;5;241m=\u001b[39m PyPDF2\u001b[38;5;241m.\u001b[39mPdfFileReader(archivo_pdf)\n",
      "\u001b[1;31mModuleNotFoundError\u001b[0m: No module named 'PyPDF2'"
     ]
    }
   ],
   "source": [
    "import PyPDF2\n",
    "\n",
    "archivo_pdf = open(\"Reserva_de_citas_medicas.pdf\", \"rb\")\n",
    "lector_pdf = PyPDF2.PdfFileReader(archivo_pdf)\n",
    "\n",
    "# Accede al contenido del PDF\n",
    "for pagina in range(lector_pdf.numPages):\n",
    "    texto = lector_pdf.getPage(pagina).extractText()\n",
    "    print(texto)\n",
    "\n",
    "archivo_pdf.close()\n"
   ]
  },
  {
   "cell_type": "code",
   "execution_count": 15,
   "id": "da1e8187",
   "metadata": {},
   "outputs": [
    {
     "name": "stdout",
     "output_type": "stream",
     "text": [
      "Ingresar un numero: 90\n",
      "Intenta de nuevo\n"
     ]
    }
   ],
   "source": [
    "number = int(input(\"Ingresar un numero: \"))\n",
    "\n",
    "a = 200\n",
    "b = 0\n",
    "\n",
    "a = a / 2\n",
    "a = a - 7\n",
    "a += 1\n",
    "\n",
    "b += 1\n",
    "b = b * 70\n",
    "b = b + 22\n",
    "b -= 1\n",
    "\n",
    "m = \"FLAG\"\n",
    "q = \"MUcH\"\n",
    "w = \"Le$$\"\n",
    "e = \"shHsh\"\n",
    "r = \"ReAd\"\n",
    "t = \"wAtcH\"\n",
    "y = \"NoT\"\n",
    "u = \"tV\"\n",
    "i = \"f1Lm\"\n",
    "o = \"B0ok\"\n",
    "p = \"d0\"\n",
    "s = \"pWd\"\n",
    "d = \"C0mPuTeR\"\n",
    "f = \"12345\"\n",
    "g = \"54321\"\n",
    "h = \"AbCdE\"\n",
    "j = \"...\"\n",
    "\n",
    "if b > number > a:\n",
    "    if number % 2 == 0:\n",
    "        if number == 88:\n",
    "            print(j + f + d + u + e)\n",
    "        elif number == 84:\n",
    "            print(s + r + o + j + g)\n",
    "        elif number == 90:\n",
    "            print(t + h + d + i +y)\n",
    "        else:\n",
    "            print (q + w + e + r + t)\n",
    "    else:\n",
    "        if number == 93:\n",
    "            print(y + s + h + o +e)\n",
    "        elif number == 87:\n",
    "            print(m + r + q + w + u)\n",
    "        elif number == 91:\n",
    "            print (t + h + d + i + y)\n",
    "        else:\n",
    "            print(q + w + e + r + t)\n",
    "else:\n",
    "    print(\"Intenta de nuevo\")\n"
   ]
  }
 ],
 "metadata": {
  "kernelspec": {
   "display_name": "Python 3 (ipykernel)",
   "language": "python",
   "name": "python3"
  },
  "language_info": {
   "codemirror_mode": {
    "name": "ipython",
    "version": 3
   },
   "file_extension": ".py",
   "mimetype": "text/x-python",
   "name": "python",
   "nbconvert_exporter": "python",
   "pygments_lexer": "ipython3",
   "version": "3.11.4"
  }
 },
 "nbformat": 4,
 "nbformat_minor": 5
}
