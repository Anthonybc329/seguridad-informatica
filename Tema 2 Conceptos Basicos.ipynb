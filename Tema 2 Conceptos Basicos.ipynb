{
 "cells": [
  {
   "cell_type": "markdown",
   "id": "5f42a4b4",
   "metadata": {},
   "source": [
    "# Conceptos basicos"
   ]
  },
  {
   "cell_type": "code",
   "execution_count": 6,
   "id": "ba304de9",
   "metadata": {},
   "outputs": [
    {
     "name": "stdout",
     "output_type": "stream",
     "text": [
      "<class 'str'>\n",
      "<class 'str'>\n",
      "<class 'str'>\n",
      "<class 'int'>\n",
      "<class 'float'>\n",
      "<class 'bool'>\n",
      "<class 'bool'>\n"
     ]
    }
   ],
   "source": [
    "nombre = 'Antonio'\n",
    "ap_paterno = \"Borges\"\n",
    "ap_materno = \"\"\"Cauich\"\"\"\n",
    "edad = 20\n",
    "altura = 1.75\n",
    "es_docente = False\n",
    "es_estudiante = True\n",
    "\n",
    "nombre_completo = f\"{nombre} {ap_paterno} {ap_materno}\"\n",
    "\n",
    "print(type(nombre))\n",
    "print(type(ap_paterno))\n",
    "print(type(ap_materno))\n",
    "print(type(edad))\n",
    "print(type(altura))\n",
    "print(type(es_docente))\n",
    "print(type(es_estudiante))"
   ]
  },
  {
   "cell_type": "code",
   "execution_count": 7,
   "id": "5a92de12",
   "metadata": {},
   "outputs": [],
   "source": [
    "# 2. Operadores"
   ]
  },
  {
   "cell_type": "code",
   "execution_count": 8,
   "id": "7095a855",
   "metadata": {},
   "outputs": [],
   "source": [
    "a = 10\n",
    "b = 3\n",
    "\n",
    "suma = a + b\n",
    "resta = a - b\n",
    "multiplicacion = a * b\n",
    "division = a / b\n",
    "modulo = a % b  # Retorna el residuo de la división"
   ]
  },
  {
   "cell_type": "code",
   "execution_count": null,
   "id": "8b61b571",
   "metadata": {},
   "outputs": [],
   "source": [
    "# 3. Entradas y salida estandar"
   ]
  },
  {
   "cell_type": "code",
   "execution_count": 10,
   "id": "9c1f60ad",
   "metadata": {},
   "outputs": [
    {
     "name": "stdout",
     "output_type": "stream",
     "text": [
      "¿Cuál es tu nombre? Antonio\n",
      "Hola, Antonio!\n"
     ]
    }
   ],
   "source": [
    "nombre = input(\"¿Cuál es tu nombre? \")\n",
    "print(f\"Hola, {nombre}!\")"
   ]
  },
  {
   "cell_type": "code",
   "execution_count": 24,
   "id": "d38e01f6",
   "metadata": {},
   "outputs": [
    {
     "name": "stdout",
     "output_type": "stream",
     "text": [
      "Cual es tu nombre? Antonio\n",
      "Cual es tu apellido paterno? Borges\n",
      "Cual es tu apellido materno ? Cauich\n",
      "Cual es tu edad? 21\n",
      "Cual es tu altura? 1.62\n",
      "Eres docente? true\n",
      "Eres estudiante? false\n",
      "Hola, soy Antonio Borges, seres docente? True \n"
     ]
    }
   ],
   "source": [
    "nombre = input(\"Cual es tu nombre? \")\n",
    "ap_paterno = input(\"Cual es tu apellido paterno? \")\n",
    "ap_materno = input(\"Cual es tu apellido materno ? \")\n",
    "edad = int(input(\"Cual es tu edad? \"))\n",
    "altura = float(input(\"Cual es tu altura? \"))\n",
    "es_estudiante = bool(input(\"Eres estudiante 'si' o 'no'? \"))\n",
    "\n",
    "bool_estudiante = es_estudiante == 'si'\n",
    "\n",
    "es_docente = False\n",
    "\n",
    "print (f\"Hola, soy {nombre} {ap_paterno}, seres alumno {bool_estudiante} \")"
   ]
  },
  {
   "cell_type": "code",
   "execution_count": null,
   "id": "c72e2050",
   "metadata": {},
   "outputs": [],
   "source": []
  }
 ],
 "metadata": {
  "kernelspec": {
   "display_name": "Python 3 (ipykernel)",
   "language": "python",
   "name": "python3"
  },
  "language_info": {
   "codemirror_mode": {
    "name": "ipython",
    "version": 3
   },
   "file_extension": ".py",
   "mimetype": "text/x-python",
   "name": "python",
   "nbconvert_exporter": "python",
   "pygments_lexer": "ipython3",
   "version": "3.11.4"
  }
 },
 "nbformat": 4,
 "nbformat_minor": 5
}
