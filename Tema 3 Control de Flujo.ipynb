{
 "cells": [
  {
   "cell_type": "markdown",
   "id": "5726ca16",
   "metadata": {},
   "source": [
    "# Tema de control"
   ]
  },
  {
   "cell_type": "code",
   "execution_count": null,
   "id": "4971c9cc",
   "metadata": {},
   "outputs": [],
   "source": [
    "# Indentación\n",
    "\n",
    "# ; No existe en lineas de codigo\n",
    "# {} No existe bloques de codigo \n",
    "# () No existe en funciones\n",
    "\n",
    "# : \n",
    "# Identado - Espacios | 4 espacios obligados"
   ]
  },
  {
   "cell_type": "code",
   "execution_count": 1,
   "id": "3ba53c9b",
   "metadata": {},
   "outputs": [
    {
     "name": "stdout",
     "output_type": "stream",
     "text": [
      "Hola mundo\n"
     ]
    }
   ],
   "source": [
    "a=1\n",
    "b=5\n",
    "if a<b :\n",
    "    print(\"Hola mundo\")\n",
    "else: \n",
    "    print(\"Mundo Hola\")"
   ]
  },
  {
   "cell_type": "markdown",
   "id": "9d3f02c9",
   "metadata": {},
   "source": [
    "# For"
   ]
  },
  {
   "cell_type": "code",
   "execution_count": 2,
   "id": "afcf9323",
   "metadata": {},
   "outputs": [
    {
     "name": "stdout",
     "output_type": "stream",
     "text": [
      "Blanco\n",
      "Azul\n",
      "Verde\n"
     ]
    }
   ],
   "source": [
    "colores = [\"Blanco\", \"Azul\", \"Verde\"]\n",
    "\n",
    "for color in colores:\n",
    "    print(color)"
   ]
  },
  {
   "cell_type": "code",
   "execution_count": 3,
   "id": "c31ddfc1",
   "metadata": {},
   "outputs": [
    {
     "data": {
      "text/plain": [
       "'Blanco'"
      ]
     },
     "execution_count": 3,
     "metadata": {},
     "output_type": "execute_result"
    }
   ],
   "source": [
    "colores = [\"Blanco\", \"Azul\", \"Verde\"]\n",
    "\n",
    "color = iter(colores)\n",
    "\n",
    "next(color)"
   ]
  },
  {
   "cell_type": "code",
   "execution_count": 5,
   "id": "3924d35f",
   "metadata": {},
   "outputs": [
    {
     "name": "stdout",
     "output_type": "stream",
     "text": [
      "A\n",
      "E\n",
      "I\n",
      "O\n",
      "4\n",
      "3\n",
      "1\n",
      "0\n",
      "A : 4\n",
      "E : 3\n",
      "I : 1\n",
      "O : 0\n"
     ]
    }
   ],
   "source": [
    "valores = {'A': 4, 'E': 3, 'I': 1, 'O': 0}\n",
    "for k in valores:\n",
    "    print(k)\n",
    "\n",
    "for v in valores.values():\n",
    "    print(v)\n",
    "\n",
    "for k,v in valores.items():\n",
    "    print(k,':', v)"
   ]
  },
  {
   "cell_type": "code",
   "execution_count": null,
   "id": "cf579611",
   "metadata": {},
   "outputs": [],
   "source": [
    "for i in range(10):\n",
    "    print(i)"
   ]
  },
  {
   "cell_type": "code",
   "execution_count": null,
   "id": "7c894128",
   "metadata": {},
   "outputs": [],
   "source": [
    "for i in range(2,11):\n",
    "    print(i)"
   ]
  },
  {
   "cell_type": "code",
   "execution_count": 8,
   "id": "b3f6aaf0",
   "metadata": {
    "scrolled": true
   },
   "outputs": [
    {
     "name": "stdout",
     "output_type": "stream",
     "text": [
      "2\n",
      "4\n",
      "6\n",
      "8\n",
      "10\n"
     ]
    }
   ],
   "source": [
    "for i in range(2,11, 2):\n",
    "    print(i)"
   ]
  },
  {
   "cell_type": "code",
   "execution_count": null,
   "id": "156f88c3",
   "metadata": {},
   "outputs": [],
   "source": [
    "inicio = int(input(\"ingresa el inicio\"))\n",
    "final = (int(input\"ingresa un final\"))\n"
   ]
  },
  {
   "cell_type": "code",
   "execution_count": 1,
   "id": "0bf3b265",
   "metadata": {},
   "outputs": [],
   "source": [
    "#Tabla de multiplicar infinita.\n",
    "\n",
    "#inicio_rango\n",
    "#final_rango\n",
    "#inicio_tabla\n",
    "#final_tabla"
   ]
  },
  {
   "cell_type": "code",
   "execution_count": 24,
   "id": "6a96cac9",
   "metadata": {},
   "outputs": [
    {
     "name": "stdout",
     "output_type": "stream",
     "text": [
      "Ingresa el incio de rango 1\n",
      "Ingresa el final de rango 3\n",
      "Ingresa el incio de tabla 5\n",
      "Ingresa el final de tabla 7\n",
      "\n",
      " 1 x 5 = 5 \n",
      " 1 x 6 = 6 \n",
      " 1 x 7 = 7 \n",
      "\n",
      " 2 x 5 = 10 \n",
      " 2 x 6 = 12 \n",
      " 2 x 7 = 14 \n",
      "\n",
      " 3 x 5 = 15 \n",
      " 3 x 6 = 18 \n",
      " 3 x 7 = 21 \n"
     ]
    }
   ],
   "source": [
    "inicioRango = int(input(\"Ingresa el incio de rango \"))\n",
    "finalRango = int(input(\"Ingresa el final de rango \"))\n",
    "inicioTabla = int(input(\"Ingresa el incio de tabla \"))\n",
    "finalTabla = int(input(\"Ingresa el final de tabla \"))\n",
    "\n",
    "for i in range (inicioRango, finalRango + 1):\n",
    "    print (\"\")\n",
    "    for j in range (inicioTabla, finalTabla + 1):\n",
    "        print(f\" {i} x {j} = {j * i} \")\n",
    "        \n",
    "        \n",
    "    "
   ]
  }
 ],
 "metadata": {
  "kernelspec": {
   "display_name": "Python 3 (ipykernel)",
   "language": "python",
   "name": "python3"
  },
  "language_info": {
   "codemirror_mode": {
    "name": "ipython",
    "version": 3
   },
   "file_extension": ".py",
   "mimetype": "text/x-python",
   "name": "python",
   "nbconvert_exporter": "python",
   "pygments_lexer": "ipython3",
   "version": "3.11.4"
  }
 },
 "nbformat": 4,
 "nbformat_minor": 5
}
